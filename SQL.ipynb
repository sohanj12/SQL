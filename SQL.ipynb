{
 "cells": [
  {
   "cell_type": "code",
   "execution_count": 1,
   "metadata": {},
   "outputs": [],
   "source": [
    "import pandas as pd\n",
    "import sqlalchemy\n",
    "import sqlite3"
   ]
  },
  {
   "cell_type": "markdown",
   "metadata": {},
   "source": [
    "#### 1. List all the directors who directed a 'Comedy' movie in a leap year. (You need to check that the genre is 'Comedy’ and year is a leap year) Your query should return director name, the movie name, and the year."
   ]
  },
  {
   "cell_type": "code",
   "execution_count": 95,
   "metadata": {
    "scrolled": true
   },
   "outputs": [
    {
     "name": "stdout",
     "output_type": "stream",
     "text": [
      "                 Name              title  year\n",
      "113    Sanjeev Sharma      Saat Uchakkey  2016\n",
      "389  Ganapathy Bharat            Hari Om  2004\n",
      "153      Rohit Shetty    Golmaal Returns  2008\n",
      "359              Brij   Bombay 405 Miles  1980\n",
      "370      Govind Menon  Kis Kis Ki Kismat  2004\n"
     ]
    }
   ],
   "source": [
    "d1 = pd.read_sql_query('''\n",
    "SELECT Person.Name, title, year\n",
    "FROM\n",
    "(SELECT * \n",
    "FROM Movie\n",
    "WHERE (year % 4 = 0) and (year % 100 != 0) or (year % 400 = 0)) \n",
    "JOIN M_Genre USING (MID)\n",
    "JOIN Genre USING (GID)\n",
    "JOIN M_Director USING (MID)\n",
    "JOIN Person USING (PID)\n",
    "WHERE Genre.Name LIKE '%Comedy%' \n",
    "\n",
    "''', con)\n",
    "print(d1.sample(n=5))"
   ]
  },
  {
   "cell_type": "markdown",
   "metadata": {},
   "source": [
    "#### 2. List the names of all the actors who played in the movie 'Anand' (1971)"
   ]
  },
  {
   "cell_type": "code",
   "execution_count": 12,
   "metadata": {
    "scrolled": true
   },
   "outputs": [
    {
     "name": "stdout",
     "output_type": "stream",
     "text": [
      "                 Name\n",
      "0       Rajesh Khanna\n",
      "1    Amitabh Bachchan\n",
      "2       Sumita Sanyal\n",
      "3          Ramesh Deo\n",
      "4           Seema Deo\n",
      "5      Asit Kumar Sen\n",
      "6          Dev Kishan\n",
      "7        Atam Prakash\n",
      "8       Lalita Kumari\n",
      "9              Savita\n",
      "10     Brahm Bhardwaj\n",
      "11       Gurnam Singh\n",
      "12       Lalita Pawar\n",
      "13        Durga Khote\n",
      "14         Dara Singh\n",
      "15      Johnny Walker\n",
      "16          Moolchand\n"
     ]
    }
   ],
   "source": [
    "con = sqlite3.connect('Db-IMDB.db')\n",
    "d2 = pd.read_sql_query('''\n",
    "\n",
    "SELECT Person.Name FROM\n",
    "(SELECT *\n",
    "FROM M_Cast\n",
    "WHERE M_Cast.MID =\n",
    "(SELECT MID\n",
    "FROM Movie\n",
    "WHERE title LIKE 'Anand'))\n",
    "JOIN Person\n",
    "USING (PID)\n",
    "\n",
    "\n",
    "''', con)\n",
    "print(d2)"
   ]
  },
  {
   "cell_type": "markdown",
   "metadata": {},
   "source": [
    "#### 3. List all the actors who acted in a film before 1970 and in a film after 1990. (That is: < 1970 and > 1990.)"
   ]
  },
  {
   "cell_type": "code",
   "execution_count": null,
   "metadata": {},
   "outputs": [],
   "source": [
    "#Removing spaces from PID column\n",
    "con = sqlite3.connect('Db-IMDB.db', timeout=10)\n",
    "sql = '''UPDATE M_Cast SET PID=Trim(PID)''' \n",
    "cur = con.cursor() \n",
    "cur.execute(sql) \n",
    "con.commit()"
   ]
  },
  {
   "cell_type": "code",
   "execution_count": 13,
   "metadata": {},
   "outputs": [
    {
     "name": "stdout",
     "output_type": "stream",
     "text": [
      "                   Name\n",
      "8267          Ram Mohan\n",
      "4979   Amitabh Bachchan\n",
      "6928        Sanjay Dutt\n",
      "5074        Dina Pathak\n",
      "1296       Rishi Kapoor\n"
     ]
    }
   ],
   "source": [
    "con = sqlite3.connect('Db-IMDB.db', timeout=10)\n",
    "d3 = pd.read_sql_query('''\n",
    "SELECT Person.Name FROM\n",
    "(SELECT * FROM\n",
    "(SELECT *\n",
    "FROM M_Cast\n",
    "JOIN\n",
    "(SELECT * \n",
    "FROM Movie\n",
    "WHERE year < 1970)\n",
    "USING(MID))\n",
    "JOIN\n",
    "(SELECT *\n",
    "FROM M_Cast\n",
    "JOIN\n",
    "(SELECT * \n",
    "FROM Movie\n",
    "WHERE year > 1990)\n",
    "USING(MID)) \n",
    "USING (PID))\n",
    "JOIN Person USING (PID)\n",
    "''', con)\n",
    "print(d3.sample(n=5))"
   ]
  },
  {
   "cell_type": "markdown",
   "metadata": {},
   "source": [
    "#### 4. List all directors who directed 10 movies or more, in descending order of the number of movies they directed. Return the directors' names and the number of movies each of them directed."
   ]
  },
  {
   "cell_type": "code",
   "execution_count": 61,
   "metadata": {},
   "outputs": [],
   "source": [
    "con = sqlite3.connect('Db-IMDB.db', timeout=10)\n",
    "sql = '''UPDATE Person SET Name=Trim(Name)''' \n",
    "cur = con.cursor() \n",
    "cur.execute(sql) \n",
    "con.commit()"
   ]
  },
  {
   "cell_type": "code",
   "execution_count": 62,
   "metadata": {},
   "outputs": [
    {
     "name": "stdout",
     "output_type": "stream",
     "text": [
      "                   Name  cnt\n",
      "0          David Dhawan   39\n",
      "1          Mahesh Bhatt   35\n",
      "2       Ram Gopal Varma   30\n",
      "3          Priyadarshan   30\n",
      "4          Vikram Bhatt   29\n",
      "5  Hrishikesh Mukherjee   27\n"
     ]
    }
   ],
   "source": [
    "con = sqlite3.connect('Db-IMDB.db')\n",
    "d4 = pd.read_sql_query('''\n",
    "SELECT DISTINCT Name, cnt FROM\n",
    "(SELECT * FROM\n",
    "(SELECT * \n",
    "FROM\n",
    "(SELECT DISTINCT PID, count(PID) AS cnt \n",
    "FROM M_Director \n",
    "GROUP by PID))\n",
    "WHERE cnt>10)\n",
    "JOIN Person\n",
    "USING (PID) \n",
    "ORDER BY cnt DESC\n",
    "''', con)\n",
    "print(d4.head(6))"
   ]
  },
  {
   "cell_type": "markdown",
   "metadata": {},
   "source": [
    "#### 5.a. For each year, count the number of movies in that year that had only female actors."
   ]
  },
  {
   "cell_type": "code",
   "execution_count": 60,
   "metadata": {},
   "outputs": [
    {
     "name": "stdout",
     "output_type": "stream",
     "text": [
      "   year  COUNT(year)\n",
      "0  1939            1\n",
      "1  1999            1\n",
      "2  2000            1\n",
      "3  2009            1\n",
      "4  2012            1\n",
      "5  2018            2\n",
      "(6, 2)\n"
     ]
    }
   ],
   "source": [
    "con = sqlite3.connect('Db-IMDB.db')\n",
    "d5 = pd.read_sql_query('''\n",
    "SELECT year, COUNT(year) FROM Movie WHERE MID NOT IN (SELECT MID FROM M_Cast JOIN Person USING (PID) WHERE Gender = 'Male') \n",
    "GROUP BY year\n",
    "''', con)\n",
    "print(d5.head())\n",
    "print(d5.shape)"
   ]
  },
  {
   "cell_type": "markdown",
   "metadata": {},
   "source": [
    "#### 5.b. Now include a small change: report for each year the percentage of movies in that year with only female actors, and the total number of movies made that year. For example, one answer will be: 1990 31.81 13522 meaning that in 1990 there were 13,522 movies, and 31.81% had only female actors. You do not need to round your answer."
   ]
  },
  {
   "cell_type": "code",
   "execution_count": 74,
   "metadata": {},
   "outputs": [
    {
     "name": "stdout",
     "output_type": "stream",
     "text": [
      "   year  cnt_females  cnt_total  perc_females\n",
      "0  1939            1          2     50.000000\n",
      "1  1999            1         66      1.515152\n",
      "2  2000            1         64      1.562500\n",
      "3  2009            1        110      0.909091\n",
      "4  2012            1        111      0.900901\n",
      "5  2018            2        104      1.923077\n"
     ]
    }
   ],
   "source": [
    "con = sqlite3.connect('Db-IMDB.db')\n",
    "d5 = pd.read_sql_query('''\n",
    "SELECT year, cnt_females, cnt_total, ((cnt_females*100.00)/cnt_total) perc_females FROM\n",
    "(SELECT year, COUNT(year) AS cnt_females FROM Movie WHERE MID NOT IN (SELECT MID FROM M_Cast JOIN Person USING (PID) WHERE Gender = 'Male') \n",
    "GROUP BY year)\n",
    "JOIN\n",
    "(SELECT year, COUNT(year) AS cnt_total FROM Movie \n",
    "GROUP BY year)\n",
    "USING (year)\n",
    "''', con)\n",
    "print(d5)"
   ]
  },
  {
   "cell_type": "markdown",
   "metadata": {},
   "source": [
    "#### Find the film(s) with the largest cast. Return the movie title and the size of the cast. By \"cast size\" we mean the number of distinct actors that played in that movie: if an actor played multiple roles, or if it simply occurs multiple times in casts, we still count her/him only once."
   ]
  },
  {
   "cell_type": "code",
   "execution_count": 82,
   "metadata": {},
   "outputs": [
    {
     "name": "stdout",
     "output_type": "stream",
     "text": [
      "         MID  cast_cnt\n",
      "0  tt5164214       238\n",
      "1  tt0451631       233\n",
      "2  tt6173990       215\n",
      "3  tt1188996       213\n",
      "4  tt3498820       191\n"
     ]
    }
   ],
   "source": [
    "con = sqlite3.connect('Db-IMDB.db')\n",
    "d6 = pd.read_sql_query('''\n",
    "SELECT MID, COUNT(MID) AS cast_cnt\n",
    "FROM M_Cast\n",
    "GROUP BY MID\n",
    "ORDER BY cast_cnt DESC LIMIT 5\n",
    "''', con)\n",
    "print(d6)"
   ]
  },
  {
   "cell_type": "markdown",
   "metadata": {},
   "source": [
    "#### A decade is a sequence of 10 consecutive years. For example, say in your database you have movie information starting from 1965. Then the first decade is 1965, 1966, ..., 1974; the second one is 1967, 1968, ..., 1976 and so on. Find the decade D with the largest number of films and the total number of films in D. "
   ]
  },
  {
   "cell_type": "code",
   "execution_count": 4,
   "metadata": {},
   "outputs": [
    {
     "name": "stdout",
     "output_type": "stream",
     "text": [
      "  decade_start  decade_end  num_movies\n",
      "0         2008        2017        1205\n",
      "1         2009        2018        1202\n",
      "2         2007        2016        1188\n",
      "3         2005        2014        1170\n",
      "4         2006        2015        1160\n",
      "   decade_start  decade_end  num_movies\n",
      "73         1943        1952          25\n",
      "74         1941        1950          14\n",
      "75         1939        1948          11\n",
      "76         1936        1945           7\n",
      "77         1931        1940           6\n"
     ]
    }
   ],
   "source": [
    "con = sqlite3.connect('Db-IMDB.db')\n",
    "d7 = pd.read_sql_query('''\n",
    "SELECT y.year AS decade_start, y.year + 9 AS decade_end,\n",
    "COUNT(*) AS num_movies\n",
    "FROM\n",
    "(SELECT DISTINCT year FROM Movie) AS y JOIN\n",
    "Movie AS m\n",
    "ON\n",
    "m.year >= y.year and m.year < y.year + 10\n",
    "GROUP BY y.year\n",
    "ORDER BY COUNT(*) DESC\n",
    "''', con)\n",
    "print(d7.head())\n",
    "print(d7.tail())"
   ]
  },
  {
   "cell_type": "markdown",
   "metadata": {},
   "source": [
    "#### Find the actors that were never unemployed for more than 3 years at a stretch. (Assume that the actors remain unemployed between two consecutive movies)."
   ]
  },
  {
   "cell_type": "code",
   "execution_count": 12,
   "metadata": {},
   "outputs": [
    {
     "name": "stdout",
     "output_type": "stream",
     "text": [
      "         pid             name            title  year next_year  gap\n",
      "0  nm1869655  A. Abdul Hameed       Prem Nagar  1974      1975    1\n",
      "1  nm0359845      A.K. Hangal     Teesri Kasam  1966      1967    1\n",
      "2  nm0359845      A.K. Hangal          Shagird  1967      1969    2\n",
      "3  nm0359845      A.K. Hangal  Saat Hindustani  1969      1971    2\n",
      "4  nm0359845      A.K. Hangal            Guddi  1971      1971    0\n"
     ]
    }
   ],
   "source": [
    "con = sqlite3.connect('Db-IMDB.db')\n",
    "d7 = pd.read_sql_query('''\n",
    "select m.*, (m.next_year - m.year) as gap\n",
    "from\n",
    "(\n",
    "select pid, name, title, year,\n",
    "LEAD(year, 1, 0) OVER (PARTITION BY name ORDER BY year ASC) AS next_year\n",
    "from \n",
    "(\n",
    "SELECT pid, name, title, year\n",
    "FROM\n",
    "(SELECT Name, PID, MID, title, year\n",
    "FROM\n",
    "Movie JOIN\n",
    "(SELECT * FROM \n",
    "Person JOIN M_Cast\n",
    "USING(PID))\n",
    "USING(MID))\n",
    ")\n",
    ")m\n",
    "where m.next_year > 0 and (m.next_year - m.year) < 3\n",
    "''', con)\n",
    "print(d7.head(5))"
   ]
  },
  {
   "cell_type": "markdown",
   "metadata": {},
   "source": [
    "#### Find all the actors that made more movies with Yash Chopra than any other director."
   ]
  },
  {
   "cell_type": "code",
   "execution_count": 2,
   "metadata": {},
   "outputs": [
    {
     "name": "stdout",
     "output_type": "stream",
     "text": [
      "           ACTOR_NAME\n",
      "0      Waheeda Rehman\n",
      "1      Achala Sachdev\n",
      "2         Yash Chopra\n",
      "3          Vinod Negi\n",
      "4  Chandni Jas Keerat\n"
     ]
    }
   ],
   "source": [
    "con = sqlite3.connect('Db-IMDB.db')\n",
    "d7 = pd.read_sql_query('''\n",
    "WITH\n",
    "YASH_CHOPRAS_PID AS\n",
    "(\n",
    "SELECT TRIM(P.PID) AS PID\n",
    "FROM Person P\n",
    "WHERE Trim(P.Name) = 'Yash Chopra'\n",
    "),\n",
    "NUM_OF_MOV_BY_ACTOR_DIRECTOR AS\n",
    "(\n",
    "SELECT TRIM(MC.PID) ACTOR_PID, TRIM(MD.PID) DIRECTOR_PID, COUNT(DISTINCT TRIM(MD.MID)) AS NUM_OF_MOV\n",
    "FROM M_Cast MC, M_Director MD\n",
    "WHERE TRIM(MC.MID)= TRIM(MD.MID)\n",
    "GROUP BY ACTOR_PID,\n",
    "DIRECTOR_PID\n",
    "),\n",
    "NUM_OF_MOVIES_BY_YC AS\n",
    "(\n",
    "SELECT NM.ACTOR_PID, NM.DIRECTOR_PID, NM.NUM_OF_MOV NUM_OF_MOV_BY_YC\n",
    "FROM NUM_OF_MOV_BY_ACTOR_DIRECTOR NM, YASH_CHOPRAS_PID YCP\n",
    "WHERE NM.DIRECTOR_PID = YCP.PID\n",
    "),\n",
    "MAX_MOV_BY_OTHER_DIRECTORS AS\n",
    "(\n",
    "SELECT ACTOR_PID, MAX(NUM_OF_MOV) MAX_NUM_OF_MOV\n",
    "FROM NUM_OF_MOV_BY_ACTOR_DIRECTOR NM, YASH_CHOPRAS_PID YCP\n",
    "WHERE NM.DIRECTOR_PID <> YCP.PID \n",
    "GROUP BY ACTOR_PID\n",
    "),\n",
    "ACTORS_MOV_COMPARISION AS\n",
    "(\n",
    "SELECT NMY.ACTOR_PID,\n",
    "CASE WHEN NMY.NUM_OF_MOV_BY_YC > IFNULL(NMO.MAX_NUM_OF_MOV,0) THEN 'Y' ELSE 'N' END MORE_MOV_BY_YC\n",
    "FROM NUM_OF_MOVIES_BY_YC NMY\n",
    "LEFT OUTER JOIN MAX_MOV_BY_OTHER_DIRECTORS NMO\n",
    "ON\n",
    "NMY.ACTOR_PID = NMO.ACTOR_PID \n",
    ")\n",
    "SELECT DISTINCT TRIM(P.Name) ACTOR_NAME\n",
    "FROM Person P\n",
    "WHERE TRIM(P.PID) IN \n",
    "(\n",
    "SELECT DISTINCT ACTOR_PID\n",
    "FROM ACTORS_MOV_COMPARISION\n",
    "WHERE MORE_MOV_BY_YC = 'Y'\n",
    ")\n",
    "\n",
    "''', con)\n",
    "print(d7.head())"
   ]
  },
  {
   "cell_type": "markdown",
   "metadata": {},
   "source": [
    "#### The Shahrukh number of an actor is the length of the shortest path between the actor and Shahrukh Khan in the \"co-acting\" graph. That is, Shahrukh Khan has Shahrukh number 0; all actors who acted in the same film as Shahrukh have Shahrukh number 1; all actors who acted in the same film as some actor with Shahrukh number 1 have Shahrukh number 2, etc. Return all actors whose Shahrukh number is 2."
   ]
  },
  {
   "cell_type": "code",
   "execution_count": 2,
   "metadata": {},
   "outputs": [
    {
     "name": "stdout",
     "output_type": "stream",
     "text": [
      "         PID             ACTOR_NAME\n",
      "0  nm2951768           Freida Pinto\n",
      "1  nm6467532  Caroline Christl Long\n",
      "2  nm6071249          Rajeev Pahuja\n",
      "3  nm3491108      Michelle Santiago\n",
      "4  nm7509518         Jandre le Roux\n"
     ]
    }
   ],
   "source": [
    "con = sqlite3.connect('Db-IMDB.db')\n",
    "d7 = pd.read_sql_query('''\n",
    "WITH \n",
    "SRK_0 AS\n",
    "(\n",
    "    SELECT TRIM(P.PID) PID\n",
    "    FROM Person P\n",
    "    WHERE Trim(P.Name) like '%Shahrukh%'\n",
    "),\n",
    "SRK_1_MOV AS\n",
    "(\n",
    "    SELECT DISTINCT TRIM(mc.MID) MID, S0.PID\n",
    "    FROM M_Cast mc, SRK_0 S0\n",
    "    WHERE TRIM(mc.PID) = S0.PID\n",
    "),\n",
    "SRK_1_ACTR AS\n",
    "(\n",
    "    SELECT DISTINCT TRIM(mc.PID) PID\n",
    "    FROM M_Cast mc, SRK_1_MOV S1M\n",
    "    WHERE TRIM(mc.MID) = S1M.MID AND TRIM(mc.PID) <> S1M.PID\n",
    "),\n",
    "SRK_2_MOV AS\n",
    "(\n",
    "    SELECT DISTINCT TRIM(mc.MID) MID, S1A.PID\n",
    "    FROM M_Cast mc,SRK_1_ACTR S1A\n",
    "    WHERE TRIM(mc.PID) = S1A.PID\n",
    ")\n",
    "SELECT DISTINCT TRIM(mc.PID) PID, TRIM(P.Name) ACTOR_NAME\n",
    "FROM Person P, M_Cast mc, SRK_2_MOV S2M\n",
    "WHERE TRIM(mc.PID) = TRIM(P.PID) AND TRIM(mc.MID) = S2M.MID AND TRIM(mc.PID) <> S2M.PID;\n",
    "''', con)\n",
    "print(d7.head())"
   ]
  }
 ],
 "metadata": {
  "kernelspec": {
   "display_name": "Python 3",
   "language": "python",
   "name": "python3"
  },
  "language_info": {
   "codemirror_mode": {
    "name": "ipython",
    "version": 3
   },
   "file_extension": ".py",
   "mimetype": "text/x-python",
   "name": "python",
   "nbconvert_exporter": "python",
   "pygments_lexer": "ipython3",
   "version": "3.7.3"
  }
 },
 "nbformat": 4,
 "nbformat_minor": 2
}
